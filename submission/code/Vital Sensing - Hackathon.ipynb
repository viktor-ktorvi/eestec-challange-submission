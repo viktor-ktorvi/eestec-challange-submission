{
 "cells": [
  {
   "cell_type": "markdown",
   "id": "d2220210",
   "metadata": {},
   "source": [
    "# Radar Data Streaming and Pre-Processing"
   ]
  },
  {
   "cell_type": "markdown",
   "id": "c04ff8d0",
   "metadata": {},
   "source": [
    "### This notebook demonstrates how to read the data from the radar using python wrapper for Infineon Radar SDK"
   ]
  },
  {
   "cell_type": "markdown",
   "id": "e75d2a7f",
   "metadata": {},
   "source": [
    "#### Importing required libraries \n",
    "\n",
    "    - ifxdaq --> is the python wrapper for Radar SDK\n",
    "    - processing --> is python module for basic processing to get the phase information from the radar signal\n",
    "    "
   ]
  },
  {
   "cell_type": "code",
   "execution_count": 20,
   "id": "9955721e",
   "metadata": {},
   "outputs": [],
   "source": [
    "import ifxdaq\n",
    "import processing\n",
    "import numpy as np\n",
    "#print(ifxdaq.__version__)\n",
    "from ifxdaq.sensor.radar_ifx import RadarIfxAvian\n",
    "time_mins = 1\n",
    "time_secs = time_mins*60\n",
    "frame_count = time_secs*1000"
   ]
  },
  {
   "cell_type": "markdown",
   "id": "7cfec634",
   "metadata": {},
   "source": [
    "#### In the folder 'radar_configs' you find radar configuration parameters. It contains radar parameters :\n",
    "\n",
    "    - transmit power level\n",
    "    - start/end frequency\n",
    "    - sampling rate\n",
    "    - # of chirps per frame\n",
    "    - # of samples per chirp\n",
    "    - # of transmit/receive antennas\n",
    "    - MIMO mode selection"
   ]
  },
  {
   "cell_type": "code",
   "execution_count": 21,
   "id": "264b965d",
   "metadata": {},
   "outputs": [],
   "source": [
    "config_file = \"radar_configs/RadarIfxBGT60.json\"\n",
    "raw_data    = []"
   ]
  },
  {
   "cell_type": "markdown",
   "id": "9e8d5e71",
   "metadata": {},
   "source": [
    "#### the next code block initiliaze the radar with set configuration and loop through the continuous frames; when it  reaches 5000 frames which is 5 second data according to our set configuration, we process it to get the phase information out of it."
   ]
  },
  {
   "cell_type": "code",
   "execution_count": 22,
   "id": "7ce74382",
   "metadata": {},
   "outputs": [],
   "source": [
    "with RadarIfxAvian(config_file) as device:                             # Initialize the radar with configurations\n",
    "    \n",
    "    for i_frame, frame in enumerate(device):                           # Loop through the frames coming from the radar\n",
    "        \n",
    "        raw_data.append(np.squeeze(frame['radar'].data/(4095.0)))      # Dividing by 4095.0 to scale the data\n",
    "        \n",
    "        if(len(raw_data) > frame_count-1 and len(raw_data) % frame_count == 0):        # 5000 is the number of frames. which corresponds to 5seconds\n",
    "            \n",
    "            data = np.swapaxes(np.asarray(raw_data), 0, 1)\n",
    "\n",
    "            phases, abses, _, _ = processing.do_processing(data)       # preprocessing to get the phase information\n",
    "            \n",
    "            phases              = np.mean(phases, axis=0)\n",
    "            \n",
    "            range_data = processing.processing_rangeData(data)\n",
    "            break"
   ]
  },
  {
   "cell_type": "markdown",
   "id": "6fe87368",
   "metadata": {},
   "source": [
    "Note: There is a function to get range_data called \"processing_rangeData\" which will be usefull to detect the movements."
   ]
  },
  {
   "cell_type": "code",
   "execution_count": 23,
   "id": "0614f0f2",
   "metadata": {},
   "outputs": [
    {
     "name": "stdout",
     "output_type": "stream",
     "text": [
      "mixed_farness_0_moving_0_radardata_2022_05_08_21_47_01.npz\n"
     ]
    }
   ],
   "source": [
    "import datetime\n",
    "datetime_now = datetime.datetime.now().strftime(\"%Y_%m_%d_%H_%M_%S\")\n",
    "\n",
    "farness=0\n",
    "moving=0\n",
    "\n",
    "# farness = np.array([0]) # 0-near ...\n",
    "# moving = np.array([0]) # 0 not moving, 1 a little, 2 a lot\n",
    "\n",
    "filename = \"mixed_farness_\"+str(farness)+\"_moving_\"+str(moving)+'_radardata_' + datetime_now + '.npz'\n",
    "print(filename)\n",
    "np.savez(filename, abses=abses, phases=phases, range_data=range_data, farness=farness, moving=moving)"
   ]
  }
 ],
 "metadata": {
  "kernelspec": {
   "display_name": "Python 3 (ipykernel)",
   "language": "python",
   "name": "python3"
  },
  "language_info": {
   "codemirror_mode": {
    "name": "ipython",
    "version": 3
   },
   "file_extension": ".py",
   "mimetype": "text/x-python",
   "name": "python",
   "nbconvert_exporter": "python",
   "pygments_lexer": "ipython3",
   "version": "3.8.13"
  }
 },
 "nbformat": 4,
 "nbformat_minor": 5
}
